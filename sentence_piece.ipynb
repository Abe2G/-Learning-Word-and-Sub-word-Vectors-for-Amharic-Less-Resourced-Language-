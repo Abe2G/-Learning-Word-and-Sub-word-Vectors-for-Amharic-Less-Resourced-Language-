{
 "cells": [
  {
   "cell_type": "code",
   "execution_count": 11,
   "metadata": {},
   "outputs": [],
   "source": [
    "import sentencepiece as spm\n",
    "import os"
   ]
  },
  {
   "cell_type": "code",
   "execution_count": 13,
   "metadata": {},
   "outputs": [
    {
     "name": "stdout",
     "output_type": "stream",
     "text": [
      "[INFO]:Processing file  10\n",
      "[INFO]:Processing file  102\n",
      "[INFO]:Processing file  103\n",
      "[INFO]:Processing file  105\n",
      "[INFO]:Processing file  109\n",
      "[INFO]:Processing file  114\n",
      "[INFO]:Processing file  12320\n",
      "[INFO]:Processing file  12321\n",
      "[INFO]:Processing file  12322\n",
      "[INFO]:Processing file  12323\n",
      "[INFO]:Processing file  12324\n",
      "[INFO]:Processing file  12325\n",
      "[INFO]:Processing file  12326\n",
      "[INFO]:Processing file  12327\n",
      "[INFO]:Processing file  12328\n",
      "[INFO]:Processing file  12329\n",
      "[INFO]:Processing file  12330\n",
      "[INFO]:Processing file  12331\n",
      "[INFO]:Processing file  12332\n",
      "[INFO]:Processing file  12333\n",
      "[INFO]:Processing file  12334\n",
      "[INFO]:Processing file  12335\n",
      "[INFO]:Processing file  12336\n",
      "[INFO]:Processing file  12337\n",
      "[INFO]:Processing file  12338\n",
      "[INFO]:Processing file  12339\n",
      "[INFO]:Processing file  12340\n",
      "[INFO]:Processing file  12341\n",
      "[INFO]:Processing file  12342\n",
      "[INFO]:Processing file  12343\n",
      "[INFO]:Processing file  12344\n",
      "[INFO]:Processing file  12345\n",
      "[INFO]:Processing file  12346\n",
      "[INFO]:Processing file  12347\n",
      "[INFO]:Processing file  12348\n",
      "[INFO]:Processing file  12349\n",
      "[INFO]:Processing file  12350\n",
      "[INFO]:Processing file  12351\n",
      "[INFO]:Processing file  12352\n",
      "[INFO]:Processing file  12353\n",
      "[INFO]:Processing file  12354\n",
      "[INFO]:Processing file  12355\n",
      "[INFO]:Processing file  12356\n",
      "[INFO]:Processing file  12357\n",
      "[INFO]:Processing file  12358\n",
      "[INFO]:Processing file  12359\n",
      "[INFO]:Processing file  12360\n",
      "[INFO]:Processing file  12361\n",
      "[INFO]:Processing file  12362\n",
      "[INFO]:Processing file  12363\n",
      "[INFO]:Processing file  12364\n",
      "[INFO]:Processing file  12365\n",
      "[INFO]:Processing file  12366\n",
      "[INFO]:Processing file  12367\n",
      "[INFO]:Processing file  12368\n",
      "[INFO]:Processing file  12369\n",
      "[INFO]:Processing file  12370\n",
      "[INFO]:Processing file  12371\n",
      "[INFO]:Processing file  12372\n",
      "[INFO]:Processing file  12373\n",
      "[INFO]:Processing file  12374\n",
      "[INFO]:Processing file  12375\n",
      "[INFO]:Processing file  12376\n",
      "[INFO]:Processing file  12377\n",
      "[INFO]:Processing file  12378\n",
      "[INFO]:Processing file  12379\n",
      "[INFO]:Processing file  12380\n",
      "[INFO]:Processing file  12381\n",
      "[INFO]:Processing file  12382\n",
      "[INFO]:Processing file  12383\n",
      "[INFO]:Processing file  12384\n",
      "[INFO]:Processing file  19\n",
      "[INFO]:Processing file  20\n",
      "[INFO]:Processing file  22\n",
      "[INFO]:Processing file  24\n",
      "[INFO]:Processing file  25\n",
      "[INFO]:Processing file  26\n",
      "[INFO]:Processing file  27\n",
      "[INFO]:Processing file  28\n",
      "[INFO]:Processing file  47\n",
      "[INFO]:Processing file  53\n",
      "[INFO]:Processing file  57\n",
      "[INFO]:Processing file  71\n",
      "[INFO]:Processing file  8\n",
      "[INFO]:Processing file  80\n",
      "[INFO]:Processing file  9\n",
      "[INFO]:Processing file  94\n",
      "[INFO]:Processing file  97\n",
      "[INFO]:Processing file  98\n",
      "[INFO]:Processing file  wiki\n",
      "[INFO]:Processing file  wiki_00\n",
      "[INFO]:Processing file  wiki_01\n",
      "[INFO]:Processing file  wiki_02\n",
      "[INFO]:Processing file  wiki_03\n",
      "[INFO]:Processing file  wiki_04\n",
      "[INFO]:Processing file  wiki_05\n",
      "[INFO]:Processing file  wiki_06\n",
      "[INFO]:Processing file  wiki_07\n",
      "[INFO]:Processing file  wiki_08\n",
      "[INFO]:Processing file  wiki_09\n",
      "[INFO]:Processing file  wiki_10\n"
     ]
    },
    {
     "data": {
      "text/plain": [
       "True"
      ]
     },
     "execution_count": 13,
     "metadata": {},
     "output_type": "execute_result"
    }
   ],
   "source": [
    "all_sentences=[]\n",
    "for _doc in os.listdir('Data/wiki/'):\n",
    "    print('[INFO]:Processing file ',_doc)\n",
    "    for line in open(os.path.join('Data/wiki/',_doc),encoding='utf8'):\n",
    "        content=line.replace('\\r', ' ').replace('\\n', ' ').strip()\n",
    "        all_sentences.append(content)\n",
    "\n",
    "with open('Data/sp_text.txt','a+',encoding='utf8') as sp_text:\n",
    "    for sen in all_sentences:\n",
    "        sp_text.write(sen+'\\n')\n",
    "\n",
    "\n",
    "spm.SentencePieceTrainer.Train('--input=' + os.path.join('Data/', 'sp_text.txt') +\n",
    "            ' --model_prefix=amh_sp --vocab_size=32000 --hard_vocab_limit=false')"
   ]
  },
  {
   "cell_type": "code",
   "execution_count": 14,
   "metadata": {},
   "outputs": [
    {
     "data": {
      "text/plain": [
       "True"
      ]
     },
     "execution_count": 14,
     "metadata": {},
     "output_type": "execute_result"
    }
   ],
   "source": [
    "sp = spm.SentencePieceProcessor()\n",
    "sp.Load(\"amh_sp.model\")"
   ]
  },
  {
   "cell_type": "code",
   "execution_count": 16,
   "metadata": {},
   "outputs": [
    {
     "data": {
      "text/plain": [
       "['▁በዘመናዊ',\n",
       " 'ነት',\n",
       " '▁እውነት',\n",
       " '▁በ',\n",
       " 'ስታ',\n",
       " 'ትስ',\n",
       " 'ቲካል',\n",
       " '▁በ',\n",
       " 'ሳይ',\n",
       " 'ን',\n",
       " 'ት',\n",
       " 'ፊ',\n",
       " 'ክ',\n",
       " '▁ይገኛል',\n",
       " '▁ሁሉ',\n",
       " '▁ነገር',\n",
       " '▁በኢ',\n",
       " 'ም',\n",
       " 'ፔ',\n",
       " 'ሪካ',\n",
       " 'ል',\n",
       " '▁ነገር',\n",
       " '▁ይረጋገጣል',\n",
       " '▁ብሎ',\n",
       " '▁ማመን',\n",
       " '▁እና',\n",
       " '▁ደግሞ',\n",
       " '▁ሁሉም',\n",
       " '▁ሰው',\n",
       " '▁የራሱ',\n",
       " '▁መነፅር',\n",
       " '▁አለው',\n",
       " '▁ስለሚ',\n",
       " 'ባል',\n",
       " '▁የህዝብ',\n",
       " '▁እና',\n",
       " '▁የግል',\n",
       " '▁የሚባል',\n",
       " '▁እውነት',\n",
       " 'ም',\n",
       " '▁አለ',\n",
       " '▁ብሎ',\n",
       " '▁ከ',\n",
       " 'ማመን',\n",
       " '▁በተ',\n",
       " 'ጨ',\n",
       " 'ሪም',\n",
       " '▁ደግሞ',\n",
       " '▁ሁሉም',\n",
       " '▁ነገር',\n",
       " '▁አንፃራዊ',\n",
       " 'ነው',\n",
       " '▁ብሎ',\n",
       " '▁ማመን',\n",
       " '▁እና',\n",
       " '▁ሁሉ',\n",
       " 'ን',\n",
       " '▁ነገር',\n",
       " '▁እምነት',\n",
       " 'ንም',\n",
       " '▁ጭምር',\n",
       " '▁የግል',\n",
       " '▁ማድረግ',\n",
       " '▁የግል',\n",
       " '▁ጌታ',\n",
       " '▁እስከ',\n",
       " '▁መፍጠር',\n",
       " '▁ያደርሳል']"
      ]
     },
     "execution_count": 16,
     "metadata": {},
     "output_type": "execute_result"
    }
   ],
   "source": [
    "sp.EncodeAsPieces(\"በዘመናዊነት እውነት በስታትስቲካል በሳይንትፊክ ይገኛል ሁሉ ነገር በኢምፔሪካል ነገር ይረጋገጣል ብሎ ማመን እና ደግሞ ሁሉም ሰው የራሱ መነፅር አለው ስለሚባል የህዝብ እና የግል የሚባል እውነትም አለ ብሎ ከማመን በተጨሪም ደግሞ ሁሉም ነገር አንፃራዊነው ብሎ ማመን እና ሁሉን ነገር እምነትንም ጭምር የግል ማድረግ የግል ጌታ እስከ መፍጠር ያደርሳል\")"
   ]
  },
  {
   "cell_type": "code",
   "execution_count": null,
   "metadata": {},
   "outputs": [],
   "source": []
  }
 ],
 "metadata": {
  "kernelspec": {
   "display_name": "Python 3",
   "language": "python",
   "name": "python3"
  },
  "language_info": {
   "codemirror_mode": {
    "name": "ipython",
    "version": 3
   },
   "file_extension": ".py",
   "mimetype": "text/x-python",
   "name": "python",
   "nbconvert_exporter": "python",
   "pygments_lexer": "ipython3",
   "version": "3.8.2"
  }
 },
 "nbformat": 4,
 "nbformat_minor": 2
}
